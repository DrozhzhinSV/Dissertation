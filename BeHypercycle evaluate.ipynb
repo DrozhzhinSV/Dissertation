{
 "cells": [
  {
   "cell_type": "code",
   "execution_count": 1,
   "metadata": {},
   "outputs": [],
   "source": [
    "import numpy as np\n",
    "from scipy.integrate import odeint\n",
    "from scipy.optimize import linprog\n",
    "from matplotlib import pyplot as plt\n",
    "%matplotlib inline\n",
    "from tqdm import tqdm"
   ]
  },
  {
   "cell_type": "code",
   "execution_count": null,
   "metadata": {},
   "outputs": [],
   "source": []
  },
  {
   "cell_type": "code",
   "execution_count": 2,
   "metadata": {},
   "outputs": [],
   "source": [
    "def get_steady_state(A, i, u, res):\n",
    "    if i == 0:\n",
    "        return 1.0 / len(A) * np.ones(len(A))\n",
    "    else:\n",
    "        deltaA = res.x.reshape(len(A), len(A))\n",
    "        \n",
    "        V = np.diag(np.dot(A, u))\n",
    "        U = np.diag(u)\n",
    "        invA = np.linalg.inv(A) \n",
    "        invUAV = np.linalg.inv(np.dot(U, A) + V)\n",
    "        \n",
    "        s1 = -res.fun * np.dot(np.dot(invUAV, invA), np.ones(len(A)))\n",
    "        s2 = np.dot(np.dot(np.dot(invUAV, U), deltaA), u)\n",
    "        s3 = np.dot(np.dot(np.dot(np.dot(np.dot(invUAV, invA), deltaA), U), A), u)\n",
    "                    \n",
    "        deltaU = s1 - s2 - s3\n",
    "                    \n",
    "        return u + np.array(deltaU)"
   ]
  },
  {
   "cell_type": "code",
   "execution_count": 3,
   "metadata": {},
   "outputs": [],
   "source": [
    "def calc_fitness(A, u):\n",
    "    AU_sq = np.dot(np.dot(A, np.diag(u)), np.dot(A, np.diag(u)))\n",
    "    return np.dot(AU_sq, np.ones(len(A)))[0]"
   ]
  },
  {
   "cell_type": "code",
   "execution_count": 4,
   "metadata": {},
   "outputs": [],
   "source": [
    "def fun(s, t):\n",
    "    global A \n",
    "    AU_sq = np.dot(np.dot(A, np.diag(s)), np.dot(A, np.diag(s)))\n",
    "    AU_sq_I = np.dot(AU_sq, np.ones(len(A)))  \n",
    "    return s * (AU_sq_I - np.dot(AU_sq_I, s))"
   ]
  },
  {
   "cell_type": "code",
   "execution_count": null,
   "metadata": {},
   "outputs": [],
   "source": []
  },
  {
   "cell_type": "code",
   "execution_count": 5,
   "metadata": {},
   "outputs": [],
   "source": [
    "def linprogTask(A, u, constr, EPS, task = 'MAX'):\n",
    "    \n",
    "    V = np.diag(np.dot(A, u))\n",
    "    U = np.diag(u)\n",
    "    invA = np.linalg.inv(A) \n",
    "    invUAV = np.linalg.inv(np.dot(U, A) + V)\n",
    "    denominator = np.dot(np.dot(np.dot(invUAV, invA), np.ones(len(A))), np.ones(len(A)))\n",
    "    \n",
    "    # Коэффициенты в уравнении, которое оптимизируем\n",
    "    c = []\n",
    "    for i in range(len(A)):\n",
    "        for j in range(len(A)):\n",
    "            \n",
    "            s = 0 \n",
    "            for k in range(len(A)):\n",
    "                s += u[j] * invUAV[k][i] * u[i]\n",
    "                s1 = 0\n",
    "                for m in range(len(A)):\n",
    "                    s2 = 0\n",
    "                    for l in range(len(A)):\n",
    "                        s2 += invUAV[k][l] * u[j] * A[j][m] * invA[l][i]\n",
    "                    s1 += u[m] * s2\n",
    "                s += s1\n",
    "                        \n",
    "            c.append(s / float(denominator))\n",
    "    \n",
    "    # Ограничения на delta a_ij \n",
    "    bounds = []\n",
    "    for i in range(len(A)**2):\n",
    "        bounds.append((-constr, constr))\n",
    "        \n",
    "    # Ограничения на сумму a_ij * delta a_ij   \n",
    "    a = list(np.array(A).reshape(1, len(A)**2).tolist())\n",
    "    b = [0]\n",
    "    \n",
    "    # Условия для принадлежности частот единичному симплексу\n",
    "    for s in range(len(A)):\n",
    "        a_ = []; a__ = []\n",
    "        for i in range(len(A)):\n",
    "            for j in range(len(A)):\n",
    "                s1 = 0\n",
    "                s2 = u[j] * invUAV[s][i] * u[i]\n",
    "                s3 = 0\n",
    "                \n",
    "                for k in range(len(A)):\n",
    "                    s4 = 0\n",
    "                    for m in range(len(A)):\n",
    "                        s4 += invUAV[s][m] * invA[m][i]\n",
    "                    s3 += u[k] * A[j][k] * u[j] * s4\n",
    "                       \n",
    "                for k in range(len(A)):\n",
    "                    for m in range(len(A)):\n",
    "                        s1 += invUAV[s][m] * invA[m][k]\n",
    "                s1 = s1 * c[i * len(A) + j]\n",
    "\n",
    "                a_.append(s1 - s2 - s3)\n",
    "                a__.append(-s1 + s2 + s3)  \n",
    "            \n",
    "        a.append(a_)\n",
    "        b.append(1 - u[i] - EPS)\n",
    "        a.append(a__)\n",
    "        b.append(u[i] - EPS)\n",
    "   \n",
    "    if task == 'MAX':\n",
    "        res = linprog(np.array(c) * (-1), \n",
    "                      A_ub = a, b_ub = b, \n",
    "                      bounds = bounds, \n",
    "                      method = 'simplex')\n",
    "    else:\n",
    "        res = linprog(c, \n",
    "                      A_ub = a, b_ub = b, \n",
    "                      bounds = bounds, \n",
    "                      method = 'simplex')\n",
    "        \n",
    "    return res"
   ]
  },
  {
   "cell_type": "code",
   "execution_count": null,
   "metadata": {},
   "outputs": [],
   "source": []
  },
  {
   "cell_type": "code",
   "execution_count": 6,
   "metadata": {},
   "outputs": [],
   "source": [
    "def plot_steady_state(steadyState):\n",
    "    plt.figure(figsize = (12, 7))\n",
    "    \n",
    "    for i in range(len(steadyState[0])):\n",
    "        plt.plot(np.array(steadyState)[:, i], label = 'u' + str(i + 1))\n",
    "        \n",
    "    plt.legend()\n",
    "    plt.xlabel(u'Номер итерации', fontsize = 16) \n",
    "    plt.ylabel(u'Частота', fontsize = 16)\n",
    "    plt.title(u'Изменение неподвижной точки', fontsize = 16)\n",
    "    plt.xticks(fontsize = 16)\n",
    "    plt.yticks(fontsize = 16)\n",
    "    plt.show()"
   ]
  },
  {
   "cell_type": "code",
   "execution_count": 7,
   "metadata": {},
   "outputs": [],
   "source": [
    "def plot_fitness(fitness):\n",
    "    plt.figure(figsize = (12, 7))\n",
    "    \n",
    "    plt.plot(fitness, 'r', label = 'Средний фитнес в стац. состоянии')\n",
    "        \n",
    "    plt.legend()\n",
    "    plt.xlabel(u'Номер итерации', fontsize = 16) \n",
    "    plt.ylabel(u'Фитнес', fontsize = 16)\n",
    "    plt.title(u'Изменение среднего фитнеса', fontsize = 16)\n",
    "    plt.xticks(fontsize = 16)\n",
    "    plt.yticks(fontsize = 16)\n",
    "    plt.show()"
   ]
  },
  {
   "cell_type": "code",
   "execution_count": 8,
   "metadata": {},
   "outputs": [],
   "source": [
    "def plot_ode(u_ode, t, timeFitnessIntegral):\n",
    "    n = len(u_ode) // 2 + len(u_ode) % 2 \n",
    "    \n",
    "    for i in range(n):\n",
    "        fig, axs = plt.subplots(figsize = (20, 5), nrows = 1, ncols = 2)\n",
    "        \n",
    "        for j in range(len(u_ode[2 * i][0])):\n",
    "            axs[0].plot(t, np.array(u_ode[2 * i])[:, j], label = 'u' + str(j + 1))\n",
    "            \n",
    "        axs[0].legend()\n",
    "        axs[0].set_xlabel(r\"$t$\", fontsize = 16) \n",
    "        axs[0].set_ylabel(u'Частота', fontsize = 16)\n",
    "        axs[0].set_title(u'Изменение в динамике на ' + str(timeFitnessIntegral[2 * i]) +\\\n",
    "                         u' итерации', fontsize = 16)\n",
    "        \n",
    "        plt.setp(axs[0].get_xticklabels(), fontsize = 16) \n",
    "        plt.setp(axs[0].get_yticklabels(), fontsize = 16) \n",
    "          \n",
    "        if (i < n - 1) or (len(u_ode) % 2 == 0):    \n",
    "            for j in range(len(u_ode[2 * i + 1][0])):\n",
    "                axs[1].plot(t, np.array(u_ode[2 * i + 1])[:, j], label = 'u' + str(j + 1))\n",
    "\n",
    "\n",
    "\n",
    "            axs[1].legend()\n",
    "            axs[1].set_xlabel(r\"$t$\", fontsize = 16)  \n",
    "            axs[1].set_ylabel(u'Частота', fontsize = 16)\n",
    "            axs[1].set_title(u'Изменение в динамике на ' + str(timeFitnessIntegral[2 * i + 1]) +\\\n",
    "                             u' итерации', fontsize = 16)\n",
    "            plt.setp(axs[1].get_xticklabels(), fontsize = 16) \n",
    "            plt.setp(axs[1].get_yticklabels(), fontsize = 16)         \n",
    "\n",
    "    \n",
    "        plt.show()"
   ]
  },
  {
   "cell_type": "code",
   "execution_count": null,
   "metadata": {},
   "outputs": [],
   "source": []
  },
  {
   "cell_type": "code",
   "execution_count": 19,
   "metadata": {},
   "outputs": [],
   "source": [
    "count_iter = 500      # number of iterations of evolution\n",
    "t1 = 5000            # final point in time to solve the ODE\n",
    "point_cnt = 10000    # count point for solving ODE\n",
    "solve_step = 150     # ODU decision step (at which iterations of evolution we will solve an ODE)\n",
    "EPS = 0.001\n",
    "\n",
    "n = 5\n",
    "constr = 0.001\n",
    "\n",
    "row = [0] * (n - 1) + [1]\n",
    "A = [list(np.roll(row, i)) for i in range(n)]\n",
    "\n",
    "u0 = np.random.uniform(size = n)\n",
    "u0 /= u0.sum()\n",
    "\n",
    "t = np.linspace(0, t1, point_cnt)"
   ]
  },
  {
   "cell_type": "code",
   "execution_count": null,
   "metadata": {},
   "outputs": [
    {
     "name": "stderr",
     "output_type": "stream",
     "text": [
      " 58%|██████████████████████████████████████████████▋                                 | 292/501 [00:10<00:08, 24.93it/s]"
     ]
    }
   ],
   "source": [
    "steadyState = []\n",
    "fitness = []\n",
    "norma = []\n",
    "u_ode = []\n",
    "timeFitnessIntegral = []\n",
    "\n",
    "# At each next step, we again find the frequencies and fitness, solve the LPP and get a new matrix A \n",
    "for i in tqdm(range(count_iter + 1)):\n",
    "    \n",
    "    if i == 0:\n",
    "        steadyState.append(get_steady_state(A, i, 0, 0))                         # Calculated steady state\n",
    "    else:\n",
    "        steadyState.append(get_steady_state(A, i, steadyState[-1], res))         # Calculated steady state\n",
    "        A = (np.array(A).reshape(1, len(A)**2) + res.x).reshape(len(A), len(A))\n",
    "    \n",
    "    fitness.append(calc_fitness(A, steadyState[-1]))                       # Calculated fitness in steady state     \n",
    "    norma.append(sum(sum(np.array(A) * np.array(A))))                      # Calculated matrix norm\n",
    "\n",
    "    if (i == 0) or (i == count_iter) or (i % solve_step == 0):\n",
    "        u_ode.append(odeint(fun, u0, t))                                   # Calculated ODE\n",
    "        timeFitnessIntegral.append(i)\n",
    "    \n",
    "    res = linprogTask(A, steadyState[-1], constr, EPS, task = 'MAX')       # Calculated LPP"
   ]
  },
  {
   "cell_type": "code",
   "execution_count": null,
   "metadata": {},
   "outputs": [],
   "source": []
  },
  {
   "cell_type": "code",
   "execution_count": null,
   "metadata": {},
   "outputs": [],
   "source": [
    "plot_steady_state(steadyState)"
   ]
  },
  {
   "cell_type": "code",
   "execution_count": null,
   "metadata": {},
   "outputs": [],
   "source": []
  },
  {
   "cell_type": "code",
   "execution_count": null,
   "metadata": {},
   "outputs": [],
   "source": [
    "plot_fitness(fitness)"
   ]
  },
  {
   "cell_type": "code",
   "execution_count": null,
   "metadata": {},
   "outputs": [],
   "source": []
  },
  {
   "cell_type": "code",
   "execution_count": null,
   "metadata": {
    "scrolled": true
   },
   "outputs": [],
   "source": [
    "plot_ode(u_ode, t, timeFitnessIntegral)"
   ]
  },
  {
   "cell_type": "code",
   "execution_count": null,
   "metadata": {},
   "outputs": [],
   "source": []
  }
 ],
 "metadata": {
  "kernelspec": {
   "display_name": "Python 3",
   "language": "python",
   "name": "python3"
  },
  "language_info": {
   "codemirror_mode": {
    "name": "ipython",
    "version": 3
   },
   "file_extension": ".py",
   "mimetype": "text/x-python",
   "name": "python",
   "nbconvert_exporter": "python",
   "pygments_lexer": "ipython3",
   "version": "3.6.10"
  }
 },
 "nbformat": 4,
 "nbformat_minor": 4
}
